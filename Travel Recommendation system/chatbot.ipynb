{
  "cells": [
    {
      "cell_type": "code",
      "execution_count": 1,
      "metadata": {
        "id": "i0FJ7cleVCQR"
      },
      "outputs": [],
      "source": [
        "import json\n",
        "import random\n",
        "import numpy as np\n",
        "from sklearn.feature_extraction.text import TfidfVectorizer\n",
        "from sklearn.metrics.pairwise import cosine_similarity\n",
        "from sklearn.preprocessing import LabelEncoder\n",
        "import pickle\n",
        "\n",
        "# Load data from the JSON file\n",
        "with open('intents.json') as file:\n",
        "    data = json.load(file)\n",
        "\n",
        "# Extract patterns and responses\n",
        "patterns = []\n",
        "responses = []\n",
        "for intent in data['intents']:\n",
        "    for pattern in intent['patterns']:\n",
        "        patterns.append(pattern)\n",
        "        responses.append(intent['tag'])\n",
        "\n",
        "# Encode the responses\n",
        "label_encoder = LabelEncoder()\n",
        "labels = label_encoder.fit_transform(responses)\n",
        "\n",
        "# Create a TF-IDF vectorizer\n",
        "tfidf_vectorizer = TfidfVectorizer()\n",
        "tfidf_matrix = tfidf_vectorizer.fit_transform(patterns)\n",
        "\n",
        "\n",
        "# Split the data into training and testing sets\n",
        "from sklearn.model_selection import train_test_split\n",
        "X_train, X_test, y_train, y_test = train_test_split(tfidf_matrix, labels, test_size=0.2, random_state=42)\n"
      ]
    },
    {
      "cell_type": "code",
      "execution_count": 2,
      "metadata": {},
      "outputs": [],
      "source": [
        "from sklearn.ensemble import RandomForestClassifier\n",
        "\n",
        "# Create and train a RandomForestClassifier\n",
        "classifier = RandomForestClassifier(n_estimators=100)\n",
        "classifier.fit(X_train, y_train)\n",
        "\n",
        "# Predict the intent\n",
        "predictions = classifier.predict(X_test)\n"
      ]
    },
    {
      "cell_type": "code",
      "execution_count": 3,
      "metadata": {},
      "outputs": [],
      "source": [
        "def chatbot(user_input):\n",
        "    # Preprocess user input using the same TF-IDF vectorizer\n",
        "    input_vector = tfidf_vectorizer.transform([user_input])\n",
        "\n",
        "    # Predict the intent\n",
        "    predicted_label = classifier.predict(input_vector)[0]\n",
        "\n",
        "    # Get the response based on the predicted label\n",
        "    response = random.choice([intent['responses'] for intent in data['intents'] if label_encoder.transform([intent['tag']])[0] == predicted_label])\n",
        "    res = random.choice(response)\n",
        "    return res\n"
      ]
    },
    {
      "cell_type": "code",
      "execution_count": 4,
      "metadata": {},
      "outputs": [
        {
          "name": "stdout",
          "output_type": "stream",
          "text": [
            "Bot: Hello, thanks for visiting\n",
            "Bot: Haw Mahal, Amber Fort, City Palace,Jaigarh Fort, City Palace etc\n",
            "Bot: My pleasure\n"
          ]
        }
      ],
      "source": [
        "while True:\n",
        "    user_input = input(\"You: \")\n",
        "    if user_input.lower() == 'exit':\n",
        "        break\n",
        "    response = chatbot(user_input)\n",
        "    print(\"Bot:\", response)"
      ]
    }
  ],
  "metadata": {
    "colab": {
      "provenance": []
    },
    "kernelspec": {
      "display_name": "Python 3",
      "name": "python3"
    },
    "language_info": {
      "codemirror_mode": {
        "name": "ipython",
        "version": 3
      },
      "file_extension": ".py",
      "mimetype": "text/x-python",
      "name": "python",
      "nbconvert_exporter": "python",
      "pygments_lexer": "ipython3",
      "version": "3.12.0"
    }
  },
  "nbformat": 4,
  "nbformat_minor": 0
}
